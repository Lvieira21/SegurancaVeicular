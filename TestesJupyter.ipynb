{
 "cells": [
  {
   "cell_type": "code",
   "execution_count": 1,
   "metadata": {
    "scrolled": true
   },
   "outputs": [
    {
     "name": "stdout",
     "output_type": "stream",
     "text": [
      "pygame 1.9.6\n",
      "Hello from the pygame community. https://www.pygame.org/contribute.html\n"
     ]
    },
    {
     "ename": "SystemExit",
     "evalue": "0",
     "output_type": "error",
     "traceback": [
      "An exception has occurred, use %tb to see the full traceback.\n",
      "\u001b[1;31mSystemExit\u001b[0m\u001b[1;31m:\u001b[0m 0\n"
     ]
    },
    {
     "name": "stderr",
     "output_type": "stream",
     "text": [
      "C:\\Users\\lucas\\anaconda3\\lib\\site-packages\\IPython\\core\\interactiveshell.py:3339: UserWarning: To exit: use 'exit', 'quit', or Ctrl-D.\n",
      "  warn(\"To exit: use 'exit', 'quit', or Ctrl-D.\", stacklevel=1)\n"
     ]
    }
   ],
   "source": [
    "from PyQt5 import QtWidgets\n",
    "from View import Ui_MainWindow\n",
    "\n",
    "if __name__ == \"__main__\":\n",
    "    import sys\n",
    "    app = QtWidgets.QApplication(sys.argv)\n",
    "    MainWindow = QtWidgets.QMainWindow()\n",
    "\n",
    "    MainWindow.move(300, 300)\n",
    "\n",
    "    MainWindow.setWindowTitle(\"Sistema de Seguranção Veicular\")\n",
    "    \n",
    "    ui = Ui_MainWindow()\n",
    "    ui.setupUi(MainWindow)\n",
    "    MainWindow.show()\n",
    "    sys.exit(app.exec_())"
   ]
  },
  {
   "cell_type": "code",
   "execution_count": 3,
   "metadata": {},
   "outputs": [],
   "source": [
    "import cv2\n",
    "import imutils"
   ]
  },
  {
   "cell_type": "code",
   "execution_count": 12,
   "metadata": {},
   "outputs": [
    {
     "name": "stdout",
     "output_type": "stream",
     "text": [
      "(480, 640)\n",
      "(480, 640)\n",
      "(480, 640)\n",
      "(480, 640)\n",
      "(480, 640)\n",
      "(480, 640)\n",
      "(480, 640)\n",
      "(480, 640)\n",
      "(480, 640)\n",
      "(480, 640)\n",
      "(480, 640)\n",
      "(480, 640)\n",
      "(480, 640)\n",
      "(480, 640)\n",
      "(480, 640)\n",
      "(480, 640)\n",
      "(480, 640)\n",
      "(480, 640)\n",
      "(480, 640)\n",
      "(480, 640)\n",
      "(480, 640)\n",
      "(480, 640)\n",
      "(480, 640)\n",
      "(480, 640)\n",
      "(480, 640)\n",
      "(480, 640)\n",
      "(480, 640)\n",
      "(480, 640)\n",
      "(480, 640)\n",
      "(480, 640)\n",
      "(480, 640)\n",
      "(480, 640)\n",
      "(480, 640)\n",
      "(480, 640)\n",
      "(480, 640)\n",
      "(480, 640)\n",
      "(480, 640)\n",
      "(480, 640)\n",
      "(480, 640)\n",
      "(480, 640)\n",
      "(480, 640)\n",
      "(480, 640)\n",
      "(480, 640)\n",
      "(480, 640)\n",
      "(480, 640)\n",
      "(480, 640)\n",
      "(480, 640)\n",
      "(480, 640)\n",
      "(480, 640)\n",
      "(480, 640)\n",
      "(480, 640)\n",
      "(480, 640)\n",
      "(480, 640)\n",
      "(480, 640)\n",
      "(480, 640)\n",
      "(480, 640)\n",
      "(480, 640)\n",
      "(480, 640)\n",
      "(480, 640)\n",
      "(480, 640)\n",
      "(480, 640)\n",
      "(480, 640)\n",
      "(480, 640)\n",
      "(480, 640)\n",
      "(480, 640)\n",
      "(480, 640)\n"
     ]
    }
   ],
   "source": [
    "cap = cv2.VideoCapture(0)\n",
    "\n",
    "while True:\n",
    "    _, frame = cap.read()\n",
    "    frameRedimencionado = imutils.resize(frame, width=357, height=273)\n",
    "    rgbImage = cv2.cvtColor(frameRedimencionado, cv2.COLOR_BGR2RGB)\n",
    "    gray = cv2.cvtColor(frameRedimencionado, cv2.COLOR_BGR2GRAY)\n",
    "    # show the frame\n",
    "    cv2.imshow(\"Teste webcam com OpenCV\", frameRedimencionado)\n",
    "    print(frame.shape[:2])\n",
    "    \n",
    "    if cv2.waitKey(1) == 27:\n",
    "        break\n",
    "# do a bit of cleanup\n",
    "cv2.destroyAllWindows()"
   ]
  }
 ],
 "metadata": {
  "kernelspec": {
   "display_name": "Python 3",
   "language": "python",
   "name": "python3"
  },
  "language_info": {
   "codemirror_mode": {
    "name": "ipython",
    "version": 3
   },
   "file_extension": ".py",
   "mimetype": "text/x-python",
   "name": "python",
   "nbconvert_exporter": "python",
   "pygments_lexer": "ipython3",
   "version": "3.6.10"
  }
 },
 "nbformat": 4,
 "nbformat_minor": 4
}
